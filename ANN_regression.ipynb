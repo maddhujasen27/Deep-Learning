{
 "cells": [
  {
   "cell_type": "markdown",
   "id": "6072e451-5cba-4106-b276-3fd1a146b929",
   "metadata": {},
   "source": [
    "## Fetch California Housing"
   ]
  },
  {
   "cell_type": "code",
   "execution_count": 1,
   "id": "eb69fe35-1e0a-4d84-aabc-fd3bfb75f612",
   "metadata": {},
   "outputs": [
    {
     "name": "stderr",
     "output_type": "stream",
     "text": [
      "2023-09-19 10:32:52.326241: I tensorflow/core/platform/cpu_feature_guard.cc:193] This TensorFlow binary is optimized with oneAPI Deep Neural Network Library (oneDNN) to use the following CPU instructions in performance-critical operations:  SSE4.1 SSE4.2\n",
      "To enable them in other operations, rebuild TensorFlow with the appropriate compiler flags.\n"
     ]
    }
   ],
   "source": [
    "import numpy as np\n",
    "import pandas as pd\n",
    "%matplotlib inline\n",
    "import matplotlib as mpl\n",
    "import matplotlib.pyplot as plt\n",
    "import tensorflow as tf\n",
    "from tensorflow import keras"
   ]
  },
  {
   "cell_type": "code",
   "execution_count": 2,
   "id": "c483964f-e6c3-4d9e-aa73-15bee8fcd51d",
   "metadata": {},
   "outputs": [],
   "source": [
    "from sklearn.datasets import fetch_california_housing \n",
    "housing = fetch_california_housing()"
   ]
  },
  {
   "cell_type": "code",
   "execution_count": 3,
   "id": "9380212b-63fd-46be-be55-61208a7006bd",
   "metadata": {},
   "outputs": [
    {
     "data": {
      "text/plain": [
       "['MedInc',\n",
       " 'HouseAge',\n",
       " 'AveRooms',\n",
       " 'AveBedrms',\n",
       " 'Population',\n",
       " 'AveOccup',\n",
       " 'Latitude',\n",
       " 'Longitude']"
      ]
     },
     "execution_count": 3,
     "metadata": {},
     "output_type": "execute_result"
    }
   ],
   "source": [
    "housing.feature_names"
   ]
  },
  {
   "cell_type": "markdown",
   "id": "09500e80-081b-4e8b-93e1-2cd73190dabc",
   "metadata": {},
   "source": [
    "### Splitting the dataset"
   ]
  },
  {
   "cell_type": "code",
   "execution_count": 4,
   "id": "b5d63b0c-e65d-4228-9444-c8c4455cb9ae",
   "metadata": {},
   "outputs": [],
   "source": [
    "from sklearn.model_selection import train_test_split\n",
    "X_train_full,X_test,y_train_full,y_test = train_test_split(housing.data,housing.target,random_state=42)\n",
    "X_train,X_valid,y_train,y_valid = train_test_split(X_train_full,y_train_full,random_state=42)"
   ]
  },
  {
   "cell_type": "markdown",
   "id": "8d3862c1-a475-45bd-9f28-0291b28d34ff",
   "metadata": {},
   "source": [
    "### Standardizing the data"
   ]
  },
  {
   "cell_type": "code",
   "execution_count": 5,
   "id": "6dc92d80-7320-4661-916f-3df3b0bc7f45",
   "metadata": {},
   "outputs": [],
   "source": [
    "from sklearn.preprocessing import StandardScaler\n",
    "scalar = StandardScaler()\n",
    "X_train = scalar.fit_transform(X_train)\n",
    "X_test = scalar.fit_transform(X_test)\n",
    "X_valid = scalar.fit_transform(X_valid)"
   ]
  },
  {
   "cell_type": "code",
   "execution_count": 6,
   "id": "21cc0465-d2c3-419a-b8c2-c27d3ed1ee75",
   "metadata": {},
   "outputs": [],
   "source": [
    "np.random.seed(42)\n",
    "tf.random.set_seed(42)"
   ]
  },
  {
   "cell_type": "code",
   "execution_count": 7,
   "id": "486f8f7f-4573-4648-b64e-8dd34a50fcfe",
   "metadata": {},
   "outputs": [
    {
     "data": {
      "text/plain": [
       "(11610, 8)"
      ]
     },
     "execution_count": 7,
     "metadata": {},
     "output_type": "execute_result"
    }
   ],
   "source": [
    "X_train.shape"
   ]
  },
  {
   "cell_type": "markdown",
   "id": "5d53d7b7-3620-4c33-ba25-94c4561752e6",
   "metadata": {},
   "source": [
    "### Model creation and training"
   ]
  },
  {
   "cell_type": "code",
   "execution_count": 8,
   "id": "51b4f305-fbd6-441a-b135-6da4f516dbbe",
   "metadata": {},
   "outputs": [
    {
     "name": "stderr",
     "output_type": "stream",
     "text": [
      "2023-09-19 10:32:54.559485: I tensorflow/core/platform/cpu_feature_guard.cc:193] This TensorFlow binary is optimized with oneAPI Deep Neural Network Library (oneDNN) to use the following CPU instructions in performance-critical operations:  SSE4.1 SSE4.2\n",
      "To enable them in other operations, rebuild TensorFlow with the appropriate compiler flags.\n"
     ]
    }
   ],
   "source": [
    "model = keras.models.Sequential([\n",
    "    keras.layers.Dense(30,activation=\"relu\",input_shape=[8]), #Hidden layer 1\n",
    "    keras.layers.Dense(30,activation=\"relu\"), # Hidden layer 2\n",
    "    keras.layers.Dense(1) # Output layer\n",
    "    \n",
    "])"
   ]
  },
  {
   "cell_type": "code",
   "execution_count": 9,
   "id": "c770e32a-4319-4f61-a203-03b3374e8734",
   "metadata": {},
   "outputs": [
    {
     "name": "stdout",
     "output_type": "stream",
     "text": [
      "Model: \"sequential\"\n",
      "_________________________________________________________________\n",
      " Layer (type)                Output Shape              Param #   \n",
      "=================================================================\n",
      " dense (Dense)               (None, 30)                270       \n",
      "                                                                 \n",
      " dense_1 (Dense)             (None, 30)                930       \n",
      "                                                                 \n",
      " dense_2 (Dense)             (None, 1)                 31        \n",
      "                                                                 \n",
      "=================================================================\n",
      "Total params: 1,231\n",
      "Trainable params: 1,231\n",
      "Non-trainable params: 0\n",
      "_________________________________________________________________\n"
     ]
    }
   ],
   "source": [
    "model.summary()"
   ]
  },
  {
   "cell_type": "code",
   "execution_count": 10,
   "id": "2053e28e-c482-498d-8bf6-09e0bf6aea94",
   "metadata": {},
   "outputs": [
    {
     "name": "stderr",
     "output_type": "stream",
     "text": [
      "/Users/maddhujasen27/opt/anaconda3/envs/tensorflow/lib/python3.9/site-packages/keras/optimizers/optimizer_v2/gradient_descent.py:111: UserWarning: The `lr` argument is deprecated, use `learning_rate` instead.\n",
      "  super().__init__(name, **kwargs)\n"
     ]
    }
   ],
   "source": [
    "model.compile(loss=\"mean_squared_error\",\n",
    "             optimizer=keras.optimizers.SGD(lr=1e-3), # learning rate = 0.01\n",
    "             metrics=['mae'])"
   ]
  },
  {
   "cell_type": "code",
   "execution_count": 11,
   "id": "b5fb68d4-f872-425d-af9a-c3c38ff0dc5c",
   "metadata": {},
   "outputs": [
    {
     "name": "stdout",
     "output_type": "stream",
     "text": [
      "Epoch 1/20\n",
      "363/363 [==============================] - 1s 920us/step - loss: 1.7561 - mae: 0.9356 - val_loss: 0.7535 - val_mae: 0.6599\n",
      "Epoch 2/20\n",
      "363/363 [==============================] - 0s 668us/step - loss: 0.6832 - mae: 0.6193 - val_loss: 0.6513 - val_mae: 0.6083\n",
      "Epoch 3/20\n",
      "363/363 [==============================] - 0s 665us/step - loss: 0.6111 - mae: 0.5788 - val_loss: 0.5987 - val_mae: 0.5753\n",
      "Epoch 4/20\n",
      "363/363 [==============================] - 0s 660us/step - loss: 0.5602 - mae: 0.5509 - val_loss: 0.5691 - val_mae: 0.5649\n",
      "Epoch 5/20\n",
      "363/363 [==============================] - 0s 656us/step - loss: 0.5235 - mae: 0.5303 - val_loss: 0.5309 - val_mae: 0.5371\n",
      "Epoch 6/20\n",
      "363/363 [==============================] - 0s 651us/step - loss: 0.4934 - mae: 0.5138 - val_loss: 0.5105 - val_mae: 0.5285\n",
      "Epoch 7/20\n",
      "363/363 [==============================] - 0s 653us/step - loss: 0.4716 - mae: 0.5008 - val_loss: 0.4915 - val_mae: 0.5174\n",
      "Epoch 8/20\n",
      "363/363 [==============================] - 0s 654us/step - loss: 0.4544 - mae: 0.4906 - val_loss: 0.4778 - val_mae: 0.5075\n",
      "Epoch 9/20\n",
      "363/363 [==============================] - 0s 652us/step - loss: 0.4412 - mae: 0.4826 - val_loss: 0.4675 - val_mae: 0.5031\n",
      "Epoch 10/20\n",
      "363/363 [==============================] - 0s 652us/step - loss: 0.4309 - mae: 0.4761 - val_loss: 0.4581 - val_mae: 0.4946\n",
      "Epoch 11/20\n",
      "363/363 [==============================] - 0s 658us/step - loss: 0.4227 - mae: 0.4699 - val_loss: 0.4524 - val_mae: 0.4946\n",
      "Epoch 12/20\n",
      "363/363 [==============================] - 0s 655us/step - loss: 0.4159 - mae: 0.4656 - val_loss: 0.4486 - val_mae: 0.4903\n",
      "Epoch 13/20\n",
      "363/363 [==============================] - 0s 656us/step - loss: 0.4105 - mae: 0.4622 - val_loss: 0.4446 - val_mae: 0.4908\n",
      "Epoch 14/20\n",
      "363/363 [==============================] - 0s 659us/step - loss: 0.4057 - mae: 0.4586 - val_loss: 0.4421 - val_mae: 0.4894\n",
      "Epoch 15/20\n",
      "363/363 [==============================] - 0s 656us/step - loss: 0.4019 - mae: 0.4560 - val_loss: 0.4383 - val_mae: 0.4853\n",
      "Epoch 16/20\n",
      "363/363 [==============================] - 0s 663us/step - loss: 0.3984 - mae: 0.4544 - val_loss: 0.4358 - val_mae: 0.4840\n",
      "Epoch 17/20\n",
      "363/363 [==============================] - 0s 658us/step - loss: 0.3955 - mae: 0.4519 - val_loss: 0.4339 - val_mae: 0.4812\n",
      "Epoch 18/20\n",
      "363/363 [==============================] - 0s 664us/step - loss: 0.3932 - mae: 0.4502 - val_loss: 0.4330 - val_mae: 0.4791\n",
      "Epoch 19/20\n",
      "363/363 [==============================] - 0s 661us/step - loss: 0.3905 - mae: 0.4482 - val_loss: 0.4331 - val_mae: 0.4800\n",
      "Epoch 20/20\n",
      "363/363 [==============================] - 0s 658us/step - loss: 0.3885 - mae: 0.4469 - val_loss: 0.4322 - val_mae: 0.4824\n"
     ]
    }
   ],
   "source": [
    "model_history = model.fit(X_train,y_train,epochs=20,validation_data=(X_valid,y_valid))"
   ]
  },
  {
   "cell_type": "markdown",
   "id": "db89720a-e640-4cf9-be06-3386b0479ca9",
   "metadata": {},
   "source": [
    "### Testing the model"
   ]
  },
  {
   "cell_type": "code",
   "execution_count": 12,
   "id": "b4f68617-df10-4905-b54f-f142a311532f",
   "metadata": {},
   "outputs": [
    {
     "name": "stdout",
     "output_type": "stream",
     "text": [
      "162/162 [==============================] - 0s 438us/step - loss: 0.3976 - mae: 0.4618\n"
     ]
    }
   ],
   "source": [
    "mae_test = model.evaluate(X_test,y_test)"
   ]
  },
  {
   "cell_type": "code",
   "execution_count": 13,
   "id": "2b89d22f-09fe-40cb-98ee-a999d024ec80",
   "metadata": {},
   "outputs": [
    {
     "data": {
      "text/plain": [
       "{'loss': [1.75611412525177,\n",
       "  0.6831738352775574,\n",
       "  0.6110541820526123,\n",
       "  0.5601649284362793,\n",
       "  0.523456871509552,\n",
       "  0.49343472719192505,\n",
       "  0.47163665294647217,\n",
       "  0.4544273018836975,\n",
       "  0.4411705732345581,\n",
       "  0.43086832761764526,\n",
       "  0.42270150780677795,\n",
       "  0.4158627390861511,\n",
       "  0.41047006845474243,\n",
       "  0.4057270288467407,\n",
       "  0.4018551707267761,\n",
       "  0.3983984589576721,\n",
       "  0.39547568559646606,\n",
       "  0.39324527978897095,\n",
       "  0.3904527723789215,\n",
       "  0.38851210474967957],\n",
       " 'mae': [0.9355728030204773,\n",
       "  0.6192571520805359,\n",
       "  0.5787954926490784,\n",
       "  0.5509465932846069,\n",
       "  0.5303162336349487,\n",
       "  0.5137506127357483,\n",
       "  0.5008249282836914,\n",
       "  0.4906061589717865,\n",
       "  0.4826012849807739,\n",
       "  0.4760717749595642,\n",
       "  0.46993717551231384,\n",
       "  0.4656246602535248,\n",
       "  0.4622403085231781,\n",
       "  0.4585593044757843,\n",
       "  0.45602983236312866,\n",
       "  0.4543728828430176,\n",
       "  0.4518556296825409,\n",
       "  0.450160950422287,\n",
       "  0.4481920003890991,\n",
       "  0.4469291567802429],\n",
       " 'val_loss': [0.7535314559936523,\n",
       "  0.6513015031814575,\n",
       "  0.5987298488616943,\n",
       "  0.5690643191337585,\n",
       "  0.5309430956840515,\n",
       "  0.5104763507843018,\n",
       "  0.4915396273136139,\n",
       "  0.4777994155883789,\n",
       "  0.4675367474555969,\n",
       "  0.45813071727752686,\n",
       "  0.45239293575286865,\n",
       "  0.44861650466918945,\n",
       "  0.4445981979370117,\n",
       "  0.44214358925819397,\n",
       "  0.4383428394794464,\n",
       "  0.435846745967865,\n",
       "  0.4338849186897278,\n",
       "  0.4330255091190338,\n",
       "  0.4330981373786926,\n",
       "  0.43217065930366516],\n",
       " 'val_mae': [0.6598811745643616,\n",
       "  0.6082655787467957,\n",
       "  0.5752800703048706,\n",
       "  0.5649110078811646,\n",
       "  0.5371381640434265,\n",
       "  0.5285125374794006,\n",
       "  0.5173829793930054,\n",
       "  0.5075411796569824,\n",
       "  0.5031417012214661,\n",
       "  0.49463677406311035,\n",
       "  0.4946260154247284,\n",
       "  0.4902580976486206,\n",
       "  0.4907659888267517,\n",
       "  0.48944348096847534,\n",
       "  0.4852530062198639,\n",
       "  0.48399922251701355,\n",
       "  0.48119255900382996,\n",
       "  0.47908133268356323,\n",
       "  0.48003003001213074,\n",
       "  0.4823988080024719]}"
      ]
     },
     "execution_count": 13,
     "metadata": {},
     "output_type": "execute_result"
    }
   ],
   "source": [
    "model_history.history"
   ]
  },
  {
   "cell_type": "code",
   "execution_count": 14,
   "id": "a198b012-7ab1-4661-8785-bc4deca93cbc",
   "metadata": {},
   "outputs": [
    {
     "data": {
      "image/png": "[encoded data removed]",
      "text/plain": [
       "<Figure size 800x500 with 1 Axes>"
      ]
     },
     "metadata": {},
     "output_type": "display_data"
    }
   ],
   "source": [
    "import pandas as pd\n",
    "pd.DataFrame(model_history.history).plot(figsize=(8,5))\n",
    "plt.grid(True)\n",
    "plt.gca().set_ylim(0,1)\n",
    "plt.show()"
   ]
  },
  {
   "cell_type": "code",
   "execution_count": 15,
   "id": "5ee89e98-8a01-41d4-b108-0fbce6ebf0d6",
   "metadata": {},
   "outputs": [
    {
     "data": {
      "text/plain": [
       "array([[-1.14772246, -0.3014276 , -0.46356103, -0.13026842, -0.0249129 ,\n",
       "         0.56243986,  0.22075674,  0.2580042 ],\n",
       "       [-0.69738315,  0.09834786, -0.14086589,  0.17205266,  0.13229717,\n",
       "        -0.17390163, -0.20888265,  0.0337006 ],\n",
       "       [-0.19475766,  1.85735988, -0.54547279,  0.15860488, -0.09942866,\n",
       "        -0.98514082,  1.03333558, -1.45168768]])"
      ]
     },
     "execution_count": 15,
     "metadata": {},
     "output_type": "execute_result"
    }
   ],
   "source": [
    "X_new = X_test[:3]\n",
    "X_new"
   ]
  },
  {
   "cell_type": "markdown",
   "id": "47dc6719-a810-4eb2-9d19-15c09367e829",
   "metadata": {},
   "source": [
    "### Making predictions"
   ]
  },
  {
   "cell_type": "code",
   "execution_count": 16,
   "id": "f816a37f-4356-4f6b-ba2e-5bb74ee1684f",
   "metadata": {},
   "outputs": [
    {
     "name": "stdout",
     "output_type": "stream",
     "text": [
      "1/1 [==============================] - 0s 48ms/step\n",
      "[[0.667198 ]\n",
      " [1.6988816]\n",
      " [4.0995355]]\n"
     ]
    },
    {
     "data": {
      "text/plain": [
       "array([0.477  , 0.458  , 5.00001])"
      ]
     },
     "execution_count": 16,
     "metadata": {},
     "output_type": "execute_result"
    }
   ],
   "source": [
    "y_pred = model.predict(X_new)\n",
    "print(y_pred)\n",
    "y_test[:3]"
   ]
  },
  {
   "cell_type": "code",
   "execution_count": 17,
   "id": "f28ed95a-daff-44cb-b85f-f1254cfc298c",
   "metadata": {},
   "outputs": [],
   "source": [
    "del model"
   ]
  },
  {
   "cell_type": "code",
   "execution_count": 18,
   "id": "6454d1f1-20fe-43eb-9bdc-f2927dfbe63a",
   "metadata": {},
   "outputs": [],
   "source": [
    "keras.backend.clear_session()"
   ]
  },
  {
   "cell_type": "markdown",
   "id": "da9325fe-3fd7-4ec2-90b2-cde6aba2471a",
   "metadata": {},
   "source": [
    "## Functional API"
   ]
  },
  {
   "cell_type": "code",
   "execution_count": 19,
   "id": "9a856e02-404d-44b9-8e29-1e2081167a00",
   "metadata": {},
   "outputs": [],
   "source": [
    "input_ = keras.layers.Input(shape=X_train.shape[1:])\n",
    "hidden1 = keras.layers.Dense(30,activation=\"relu\")(input_)\n",
    "hidden2 = keras.layers.Dense(30,activation=\"relu\")(hidden1)\n",
    "concat=keras.layers.concatenate([input_,hidden2])\n",
    "output=keras.layers.Dense(1)(concat)\n",
    "model=keras.models.Model(inputs=[input_],outputs=[output])"
   ]
  },
  {
   "cell_type": "code",
   "execution_count": 20,
   "id": "15c4d39f-e467-4387-855d-9be4fefddef1",
   "metadata": {},
   "outputs": [
    {
     "name": "stdout",
     "output_type": "stream",
     "text": [
      "Model: \"model\"\n",
      "__________________________________________________________________________________________________\n",
      " Layer (type)                   Output Shape         Param #     Connected to                     \n",
      "==================================================================================================\n",
      " input_1 (InputLayer)           [(None, 8)]          0           []                               \n",
      "                                                                                                  \n",
      " dense (Dense)                  (None, 30)           270         ['input_1[0][0]']                \n",
      "                                                                                                  \n",
      " dense_1 (Dense)                (None, 30)           930         ['dense[0][0]']                  \n",
      "                                                                                                  \n",
      " concatenate (Concatenate)      (None, 38)           0           ['input_1[0][0]',                \n",
      "                                                                  'dense_1[0][0]']                \n",
      "                                                                                                  \n",
      " dense_2 (Dense)                (None, 1)            39          ['concatenate[0][0]']            \n",
      "                                                                                                  \n",
      "==================================================================================================\n",
      "Total params: 1,239\n",
      "Trainable params: 1,239\n",
      "Non-trainable params: 0\n",
      "__________________________________________________________________________________________________\n"
     ]
    }
   ],
   "source": [
    "model.summary()"
   ]
  },
  {
   "cell_type": "code",
   "execution_count": 21,
   "id": "05b1eeb1-ba55-4a3d-88eb-b7f0aa5995a7",
   "metadata": {},
   "outputs": [],
   "source": [
    "model.compile(loss=\"mean_squared_error\",\n",
    "             optimizer=keras.optimizers.SGD(lr=1e-3), # learning rate = 0.01\n",
    "             metrics=['mae'])"
   ]
  },
  {
   "cell_type": "code",
   "execution_count": 22,
   "id": "9dbed7ca-1207-4406-90dc-3b890f723c81",
   "metadata": {},
   "outputs": [
    {
     "name": "stdout",
     "output_type": "stream",
     "text": [
      "Epoch 1/20\n",
      "363/363 [==============================] - 0s 880us/step - loss: 2.1800 - mae: 1.0226 - val_loss: 0.7512 - val_mae: 0.6174\n",
      "Epoch 2/20\n",
      "363/363 [==============================] - 0s 665us/step - loss: 0.7056 - mae: 0.6102 - val_loss: 0.6667 - val_mae: 0.6029\n",
      "Epoch 3/20\n",
      "363/363 [==============================] - 0s 664us/step - loss: 0.6286 - mae: 0.5806 - val_loss: 0.6195 - val_mae: 0.5743\n",
      "Epoch 4/20\n",
      "363/363 [==============================] - 0s 667us/step - loss: 0.5855 - mae: 0.5557 - val_loss: 0.5894 - val_mae: 0.5642\n",
      "Epoch 5/20\n",
      "363/363 [==============================] - 0s 671us/step - loss: 0.5511 - mae: 0.5371 - val_loss: 0.5577 - val_mae: 0.5450\n",
      "Epoch 6/20\n",
      "363/363 [==============================] - 0s 664us/step - loss: 0.5215 - mae: 0.5220 - val_loss: 0.5385 - val_mae: 0.5357\n",
      "Epoch 7/20\n",
      "363/363 [==============================] - 0s 665us/step - loss: 0.4996 - mae: 0.5089 - val_loss: 0.5198 - val_mae: 0.5250\n",
      "Epoch 8/20\n",
      "363/363 [==============================] - 0s 695us/step - loss: 0.4820 - mae: 0.4985 - val_loss: 0.5062 - val_mae: 0.5180\n",
      "Epoch 9/20\n",
      "363/363 [==============================] - 0s 665us/step - loss: 0.4661 - mae: 0.4906 - val_loss: 0.4943 - val_mae: 0.5111\n",
      "Epoch 10/20\n",
      "363/363 [==============================] - 0s 667us/step - loss: 0.4540 - mae: 0.4836 - val_loss: 0.4846 - val_mae: 0.5049\n",
      "Epoch 11/20\n",
      "363/363 [==============================] - 0s 666us/step - loss: 0.4446 - mae: 0.4778 - val_loss: 0.4796 - val_mae: 0.5061\n",
      "Epoch 12/20\n",
      "363/363 [==============================] - 0s 661us/step - loss: 0.4362 - mae: 0.4732 - val_loss: 0.4729 - val_mae: 0.4997\n",
      "Epoch 13/20\n",
      "363/363 [==============================] - 0s 663us/step - loss: 0.4296 - mae: 0.4693 - val_loss: 0.4698 - val_mae: 0.5015\n",
      "Epoch 14/20\n",
      "363/363 [==============================] - 0s 666us/step - loss: 0.4238 - mae: 0.4661 - val_loss: 0.4657 - val_mae: 0.4993\n",
      "Epoch 15/20\n",
      "363/363 [==============================] - 0s 665us/step - loss: 0.4190 - mae: 0.4634 - val_loss: 0.4600 - val_mae: 0.4942\n",
      "Epoch 16/20\n",
      "363/363 [==============================] - 0s 661us/step - loss: 0.4149 - mae: 0.4612 - val_loss: 0.4570 - val_mae: 0.4934\n",
      "Epoch 17/20\n",
      "363/363 [==============================] - 0s 664us/step - loss: 0.4113 - mae: 0.4588 - val_loss: 0.4534 - val_mae: 0.4893\n",
      "Epoch 18/20\n",
      "363/363 [==============================] - 0s 670us/step - loss: 0.4085 - mae: 0.4571 - val_loss: 0.4522 - val_mae: 0.4877\n",
      "Epoch 19/20\n",
      "363/363 [==============================] - 0s 663us/step - loss: 0.4054 - mae: 0.4548 - val_loss: 0.4519 - val_mae: 0.4881\n",
      "Epoch 20/20\n",
      "363/363 [==============================] - 0s 663us/step - loss: 0.4034 - mae: 0.4537 - val_loss: 0.4484 - val_mae: 0.4877\n"
     ]
    }
   ],
   "source": [
    "model_history = model.fit(X_train,y_train,epochs=20,validation_data=(X_valid,y_valid))"
   ]
  },
  {
   "cell_type": "code",
   "execution_count": 23,
   "id": "aa66367a-83fc-45e3-9f36-af299aae216a",
   "metadata": {},
   "outputs": [
    {
     "name": "stdout",
     "output_type": "stream",
     "text": [
      "162/162 [==============================] - 0s 436us/step - loss: 0.4030 - mae: 0.4620\n"
     ]
    }
   ],
   "source": [
    "mae_test = model.evaluate(X_test,y_test)"
   ]
  },
  {
   "cell_type": "code",
   "execution_count": 24,
   "id": "6a31a91a-c33c-4d9c-80e5-455b495eec37",
   "metadata": {},
   "outputs": [
    {
     "data": {
      "image/png": "[encoded data removed]",
      "text/plain": [
       "<Figure size 800x500 with 1 Axes>"
      ]
     },
     "metadata": {},
     "output_type": "display_data"
    }
   ],
   "source": [
    "import pandas as pd\n",
    "pd.DataFrame(model_history.history).plot(figsize=(8,5))\n",
    "plt.grid(True)\n",
    "plt.gca().set_ylim(0,1)\n",
    "plt.show()"
   ]
  },
  {
   "cell_type": "code",
   "execution_count": 25,
   "id": "d97b4cd9-35c9-4ae6-895e-fbc8b6e5efad",
   "metadata": {},
   "outputs": [
    {
     "data": {
      "text/plain": [
       "array([[-1.14772246, -0.3014276 , -0.46356103, -0.13026842, -0.0249129 ,\n",
       "         0.56243986,  0.22075674,  0.2580042 ],\n",
       "       [-0.69738315,  0.09834786, -0.14086589,  0.17205266,  0.13229717,\n",
       "        -0.17390163, -0.20888265,  0.0337006 ],\n",
       "       [-0.19475766,  1.85735988, -0.54547279,  0.15860488, -0.09942866,\n",
       "        -0.98514082,  1.03333558, -1.45168768]])"
      ]
     },
     "execution_count": 25,
     "metadata": {},
     "output_type": "execute_result"
    }
   ],
   "source": [
    "X_new = X_test[:3]\n",
    "X_new"
   ]
  },
  {
   "cell_type": "code",
   "execution_count": 26,
   "id": "9113224b-4c5c-4073-96b9-f8f9fcb36d7d",
   "metadata": {},
   "outputs": [
    {
     "name": "stdout",
     "output_type": "stream",
     "text": [
      "1/1 [==============================] - 0s 35ms/step\n",
      "[[0.5811154]\n",
      " [1.9563155]\n",
      " [3.885494 ]]\n"
     ]
    },
    {
     "data": {
      "text/plain": [
       "array([0.477  , 0.458  , 5.00001])"
      ]
     },
     "execution_count": 26,
     "metadata": {},
     "output_type": "execute_result"
    }
   ],
   "source": [
    "y_pred = model.predict(X_new)\n",
    "print(y_pred)\n",
    "y_test[:3]"
   ]
  },
  {
   "cell_type": "markdown",
   "id": "d139604e-f97c-4214-b289-686634270424",
   "metadata": {},
   "source": [
    "### Optimizing the model"
   ]
  },
  {
   "cell_type": "code",
   "execution_count": 27,
   "id": "9f9467dd-58e4-47da-8d36-5c54e5bd5318",
   "metadata": {},
   "outputs": [],
   "source": [
    "del model"
   ]
  },
  {
   "cell_type": "code",
   "execution_count": 28,
   "id": "f16a4cf5-8f84-431b-9180-36e53ad90706",
   "metadata": {},
   "outputs": [],
   "source": [
    "keras.backend.clear_session()"
   ]
  },
  {
   "cell_type": "code",
   "execution_count": 29,
   "id": "3ea53569-7e6b-445d-96d5-0b57084b1e8a",
   "metadata": {},
   "outputs": [],
   "source": [
    "model = keras.models.Sequential([\n",
    "    keras.layers.Dense(30,activation=\"relu\",input_shape=[8]), #Hidden layer 1\n",
    "    keras.layers.Dense(30,activation=\"relu\"), # Hidden layer 2\n",
    "    keras.layers.Dense(1) # Output layer\n",
    "    \n",
    "])"
   ]
  },
  {
   "cell_type": "code",
   "execution_count": 30,
   "id": "63daad91-d2d1-43e1-a7d4-ed2a7634a90f",
   "metadata": {},
   "outputs": [],
   "source": [
    "model.compile(loss=\"mean_squared_error\",\n",
    "             optimizer=keras.optimizers.SGD(lr=1e-3), metrics=['mae'])"
   ]
  },
  {
   "cell_type": "code",
   "execution_count": 31,
   "id": "e9dbccc8-6714-4715-b5b4-022ce82e640e",
   "metadata": {},
   "outputs": [],
   "source": [
    "checkpoint_cb = keras.callbacks.ModelCheckpoint(\"early_stop_model.h5\",save_best_only=True)"
   ]
  },
  {
   "cell_type": "code",
   "execution_count": 32,
   "id": "24f94090-387b-4214-9797-abc0fa587360",
   "metadata": {},
   "outputs": [],
   "source": [
    "early_stopping_cb = keras.callbacks.EarlyStopping(patience=10,restore_best_weights=True)\n",
    "#patience - the number of epochs considered with no improvement"
   ]
  },
  {
   "cell_type": "code",
   "execution_count": 33,
   "id": "06af7c8f-f52a-453c-a703-7164d2e2c1ba",
   "metadata": {},
   "outputs": [
    {
     "name": "stdout",
     "output_type": "stream",
     "text": [
      "Epoch 1/200\n",
      "363/363 [==============================] - 0s 897us/step - loss: 2.2608 - mae: 1.0819 - val_loss: 1.0454 - val_mae: 0.7597\n",
      "Epoch 2/200\n",
      "363/363 [==============================] - 0s 681us/step - loss: 0.8926 - mae: 0.7011 - val_loss: 0.7643 - val_mae: 0.6604\n",
      "Epoch 3/200\n",
      "363/363 [==============================] - 0s 678us/step - loss: 0.7323 - mae: 0.6405 - val_loss: 0.7034 - val_mae: 0.6249\n",
      "Epoch 4/200\n",
      "363/363 [==============================] - 0s 676us/step - loss: 0.6752 - mae: 0.6124 - val_loss: 0.6735 - val_mae: 0.6187\n",
      "Epoch 5/200\n",
      "363/363 [==============================] - 0s 678us/step - loss: 0.6313 - mae: 0.5912 - val_loss: 0.6350 - val_mae: 0.5964\n",
      "Epoch 6/200\n",
      "363/363 [==============================] - 0s 674us/step - loss: 0.5924 - mae: 0.5719 - val_loss: 0.6060 - val_mae: 0.5822\n",
      "Epoch 7/200\n",
      "363/363 [==============================] - 0s 675us/step - loss: 0.5582 - mae: 0.5535 - val_loss: 0.5778 - val_mae: 0.5669\n",
      "Epoch 8/200\n",
      "363/363 [==============================] - 0s 674us/step - loss: 0.5289 - mae: 0.5375 - val_loss: 0.5520 - val_mae: 0.5519\n",
      "Epoch 9/200\n",
      "363/363 [==============================] - 0s 675us/step - loss: 0.5042 - mae: 0.5236 - val_loss: 0.5316 - val_mae: 0.5407\n",
      "Epoch 10/200\n",
      "363/363 [==============================] - 0s 678us/step - loss: 0.4838 - mae: 0.5115 - val_loss: 0.5128 - val_mae: 0.5284\n",
      "Epoch 11/200\n",
      "363/363 [==============================] - 0s 680us/step - loss: 0.4676 - mae: 0.5014 - val_loss: 0.5016 - val_mae: 0.5267\n",
      "Epoch 12/200\n",
      "363/363 [==============================] - 0s 676us/step - loss: 0.4547 - mae: 0.4936 - val_loss: 0.4871 - val_mae: 0.5142\n",
      "Epoch 13/200\n",
      "363/363 [==============================] - 0s 674us/step - loss: 0.4442 - mae: 0.4865 - val_loss: 0.4796 - val_mae: 0.5129\n",
      "Epoch 14/200\n",
      "363/363 [==============================] - 0s 682us/step - loss: 0.4357 - mae: 0.4806 - val_loss: 0.4718 - val_mae: 0.5081\n",
      "Epoch 15/200\n",
      "363/363 [==============================] - 0s 676us/step - loss: 0.4285 - mae: 0.4760 - val_loss: 0.4633 - val_mae: 0.4999\n",
      "Epoch 16/200\n",
      "363/363 [==============================] - 0s 680us/step - loss: 0.4227 - mae: 0.4720 - val_loss: 0.4579 - val_mae: 0.4956\n",
      "Epoch 17/200\n",
      "363/363 [==============================] - 0s 675us/step - loss: 0.4178 - mae: 0.4681 - val_loss: 0.4529 - val_mae: 0.4917\n",
      "Epoch 18/200\n",
      "363/363 [==============================] - 0s 680us/step - loss: 0.4136 - mae: 0.4652 - val_loss: 0.4489 - val_mae: 0.4868\n",
      "Epoch 19/200\n",
      "363/363 [==============================] - 0s 682us/step - loss: 0.4094 - mae: 0.4616 - val_loss: 0.4458 - val_mae: 0.4835\n",
      "Epoch 20/200\n",
      "363/363 [==============================] - 0s 678us/step - loss: 0.4065 - mae: 0.4597 - val_loss: 0.4441 - val_mae: 0.4868\n",
      "Epoch 21/200\n",
      "363/363 [==============================] - 0s 689us/step - loss: 0.4036 - mae: 0.4574 - val_loss: 0.4425 - val_mae: 0.4862\n",
      "Epoch 22/200\n",
      "363/363 [==============================] - 0s 723us/step - loss: 0.4012 - mae: 0.4556 - val_loss: 0.4409 - val_mae: 0.4847\n",
      "Epoch 23/200\n",
      "363/363 [==============================] - 0s 735us/step - loss: 0.3987 - mae: 0.4543 - val_loss: 0.4359 - val_mae: 0.4704\n",
      "Epoch 24/200\n",
      "363/363 [==============================] - 0s 680us/step - loss: 0.3964 - mae: 0.4512 - val_loss: 0.4358 - val_mae: 0.4745\n",
      "Epoch 25/200\n",
      "363/363 [==============================] - 0s 680us/step - loss: 0.3942 - mae: 0.4503 - val_loss: 0.4334 - val_mae: 0.4742\n",
      "Epoch 26/200\n",
      "363/363 [==============================] - 0s 679us/step - loss: 0.3924 - mae: 0.4487 - val_loss: 0.4321 - val_mae: 0.4740\n",
      "Epoch 27/200\n",
      "363/363 [==============================] - 0s 682us/step - loss: 0.3909 - mae: 0.4475 - val_loss: 0.4303 - val_mae: 0.4707\n",
      "Epoch 28/200\n",
      "363/363 [==============================] - 0s 667us/step - loss: 0.3891 - mae: 0.4457 - val_loss: 0.4321 - val_mae: 0.4775\n",
      "Epoch 29/200\n",
      "363/363 [==============================] - 0s 678us/step - loss: 0.3875 - mae: 0.4450 - val_loss: 0.4300 - val_mae: 0.4750\n",
      "Epoch 30/200\n",
      "363/363 [==============================] - 0s 680us/step - loss: 0.3857 - mae: 0.4435 - val_loss: 0.4298 - val_mae: 0.4726\n",
      "Epoch 31/200\n",
      "363/363 [==============================] - 0s 686us/step - loss: 0.3837 - mae: 0.4422 - val_loss: 0.4279 - val_mae: 0.4697\n",
      "Epoch 32/200\n",
      "363/363 [==============================] - 0s 663us/step - loss: 0.3823 - mae: 0.4412 - val_loss: 0.4304 - val_mae: 0.4781\n",
      "Epoch 33/200\n",
      "363/363 [==============================] - 0s 681us/step - loss: 0.3816 - mae: 0.4406 - val_loss: 0.4264 - val_mae: 0.4721\n",
      "Epoch 34/200\n",
      "363/363 [==============================] - 0s 663us/step - loss: 0.3796 - mae: 0.4393 - val_loss: 0.4265 - val_mae: 0.4716\n",
      "Epoch 35/200\n",
      "363/363 [==============================] - 0s 661us/step - loss: 0.3782 - mae: 0.4384 - val_loss: 0.4270 - val_mae: 0.4747\n",
      "Epoch 36/200\n",
      "363/363 [==============================] - 0s 691us/step - loss: 0.3770 - mae: 0.4379 - val_loss: 0.4234 - val_mae: 0.4654\n",
      "Epoch 37/200\n",
      "363/363 [==============================] - 0s 666us/step - loss: 0.3758 - mae: 0.4363 - val_loss: 0.4242 - val_mae: 0.4703\n",
      "Epoch 38/200\n",
      "363/363 [==============================] - 0s 681us/step - loss: 0.3744 - mae: 0.4362 - val_loss: 0.4231 - val_mae: 0.4668\n",
      "Epoch 39/200\n",
      "363/363 [==============================] - 0s 685us/step - loss: 0.3733 - mae: 0.4351 - val_loss: 0.4218 - val_mae: 0.4647\n",
      "Epoch 40/200\n",
      "363/363 [==============================] - 0s 679us/step - loss: 0.3720 - mae: 0.4345 - val_loss: 0.4212 - val_mae: 0.4616\n",
      "Epoch 41/200\n",
      "363/363 [==============================] - 0s 683us/step - loss: 0.3714 - mae: 0.4334 - val_loss: 0.4209 - val_mae: 0.4654\n",
      "Epoch 42/200\n",
      "363/363 [==============================] - 0s 660us/step - loss: 0.3704 - mae: 0.4335 - val_loss: 0.4213 - val_mae: 0.4646\n",
      "Epoch 43/200\n",
      "363/363 [==============================] - 0s 663us/step - loss: 0.3690 - mae: 0.4317 - val_loss: 0.4216 - val_mae: 0.4653\n",
      "Epoch 44/200\n",
      "363/363 [==============================] - 0s 663us/step - loss: 0.3680 - mae: 0.4312 - val_loss: 0.4210 - val_mae: 0.4701\n",
      "Epoch 45/200\n",
      "363/363 [==============================] - 0s 684us/step - loss: 0.3677 - mae: 0.4314 - val_loss: 0.4196 - val_mae: 0.4625\n",
      "Epoch 46/200\n",
      "363/363 [==============================] - 0s 682us/step - loss: 0.3663 - mae: 0.4296 - val_loss: 0.4194 - val_mae: 0.4637\n",
      "Epoch 47/200\n",
      "363/363 [==============================] - 0s 716us/step - loss: 0.3654 - mae: 0.4297 - val_loss: 0.4186 - val_mae: 0.4607\n",
      "Epoch 48/200\n",
      "363/363 [==============================] - 0s 683us/step - loss: 0.3647 - mae: 0.4287 - val_loss: 0.4175 - val_mae: 0.4645\n",
      "Epoch 49/200\n",
      "363/363 [==============================] - 0s 683us/step - loss: 0.3643 - mae: 0.4287 - val_loss: 0.4167 - val_mae: 0.4634\n",
      "Epoch 50/200\n",
      "363/363 [==============================] - 0s 665us/step - loss: 0.3632 - mae: 0.4280 - val_loss: 0.4185 - val_mae: 0.4616\n",
      "Epoch 51/200\n",
      "363/363 [==============================] - 0s 667us/step - loss: 0.3624 - mae: 0.4267 - val_loss: 0.4188 - val_mae: 0.4670\n",
      "Epoch 52/200\n",
      "363/363 [==============================] - 0s 665us/step - loss: 0.3617 - mae: 0.4270 - val_loss: 0.4175 - val_mae: 0.4581\n",
      "Epoch 53/200\n",
      "363/363 [==============================] - 0s 665us/step - loss: 0.3609 - mae: 0.4261 - val_loss: 0.4183 - val_mae: 0.4626\n",
      "Epoch 54/200\n",
      "363/363 [==============================] - 0s 683us/step - loss: 0.3603 - mae: 0.4256 - val_loss: 0.4154 - val_mae: 0.4624\n",
      "Epoch 55/200\n",
      "363/363 [==============================] - 0s 686us/step - loss: 0.3595 - mae: 0.4257 - val_loss: 0.4154 - val_mae: 0.4590\n",
      "Epoch 56/200\n",
      "363/363 [==============================] - 0s 666us/step - loss: 0.3588 - mae: 0.4248 - val_loss: 0.4166 - val_mae: 0.4634\n",
      "Epoch 57/200\n",
      "363/363 [==============================] - 0s 669us/step - loss: 0.3582 - mae: 0.4244 - val_loss: 0.4155 - val_mae: 0.4604\n",
      "Epoch 58/200\n",
      "363/363 [==============================] - 0s 666us/step - loss: 0.3575 - mae: 0.4238 - val_loss: 0.4172 - val_mae: 0.4586\n",
      "Epoch 59/200\n",
      "363/363 [==============================] - 0s 686us/step - loss: 0.3570 - mae: 0.4235 - val_loss: 0.4152 - val_mae: 0.4610\n",
      "Epoch 60/200\n",
      "363/363 [==============================] - 0s 669us/step - loss: 0.3564 - mae: 0.4229 - val_loss: 0.4159 - val_mae: 0.4629\n",
      "Epoch 61/200\n",
      "363/363 [==============================] - 0s 675us/step - loss: 0.3555 - mae: 0.4222 - val_loss: 0.4168 - val_mae: 0.4690\n",
      "Epoch 62/200\n",
      "363/363 [==============================] - 0s 685us/step - loss: 0.3554 - mae: 0.4226 - val_loss: 0.4129 - val_mae: 0.4581\n",
      "Epoch 63/200\n",
      "363/363 [==============================] - 0s 666us/step - loss: 0.3540 - mae: 0.4212 - val_loss: 0.4174 - val_mae: 0.4667\n",
      "Epoch 64/200\n",
      "363/363 [==============================] - 0s 687us/step - loss: 0.3542 - mae: 0.4215 - val_loss: 0.4123 - val_mae: 0.4580\n",
      "Epoch 65/200\n",
      "363/363 [==============================] - 0s 723us/step - loss: 0.3535 - mae: 0.4212 - val_loss: 0.4119 - val_mae: 0.4566\n",
      "Epoch 66/200\n",
      "363/363 [==============================] - 0s 670us/step - loss: 0.3527 - mae: 0.4204 - val_loss: 0.4141 - val_mae: 0.4585\n",
      "Epoch 67/200\n",
      "363/363 [==============================] - 0s 685us/step - loss: 0.3521 - mae: 0.4198 - val_loss: 0.4112 - val_mae: 0.4590\n",
      "Epoch 68/200\n",
      "363/363 [==============================] - 0s 662us/step - loss: 0.3516 - mae: 0.4194 - val_loss: 0.4122 - val_mae: 0.4577\n",
      "Epoch 69/200\n",
      "363/363 [==============================] - 0s 663us/step - loss: 0.3512 - mae: 0.4188 - val_loss: 0.4129 - val_mae: 0.4609\n",
      "Epoch 70/200\n",
      "363/363 [==============================] - 0s 684us/step - loss: 0.3504 - mae: 0.4189 - val_loss: 0.4110 - val_mae: 0.4550\n",
      "Epoch 71/200\n",
      "363/363 [==============================] - 0s 668us/step - loss: 0.3502 - mae: 0.4185 - val_loss: 0.4118 - val_mae: 0.4584\n",
      "Epoch 72/200\n",
      "363/363 [==============================] - 0s 666us/step - loss: 0.3496 - mae: 0.4180 - val_loss: 0.4122 - val_mae: 0.4575\n",
      "Epoch 73/200\n",
      "363/363 [==============================] - 0s 686us/step - loss: 0.3487 - mae: 0.4179 - val_loss: 0.4107 - val_mae: 0.4516\n",
      "Epoch 74/200\n",
      "363/363 [==============================] - 0s 686us/step - loss: 0.3488 - mae: 0.4172 - val_loss: 0.4099 - val_mae: 0.4561\n",
      "Epoch 75/200\n",
      "363/363 [==============================] - 0s 672us/step - loss: 0.3480 - mae: 0.4169 - val_loss: 0.4145 - val_mae: 0.4610\n",
      "Epoch 76/200\n",
      "363/363 [==============================] - 0s 669us/step - loss: 0.3478 - mae: 0.4166 - val_loss: 0.4102 - val_mae: 0.4539\n",
      "Epoch 77/200\n",
      "363/363 [==============================] - 0s 665us/step - loss: 0.3468 - mae: 0.4157 - val_loss: 0.4113 - val_mae: 0.4604\n",
      "Epoch 78/200\n",
      "363/363 [==============================] - 0s 668us/step - loss: 0.3466 - mae: 0.4161 - val_loss: 0.4116 - val_mae: 0.4578\n",
      "Epoch 79/200\n",
      "363/363 [==============================] - 0s 671us/step - loss: 0.3462 - mae: 0.4152 - val_loss: 0.4112 - val_mae: 0.4562\n",
      "Epoch 80/200\n",
      "363/363 [==============================] - 0s 724us/step - loss: 0.3457 - mae: 0.4153 - val_loss: 0.4091 - val_mae: 0.4535\n",
      "Epoch 81/200\n",
      "363/363 [==============================] - 0s 686us/step - loss: 0.3453 - mae: 0.4150 - val_loss: 0.4081 - val_mae: 0.4523\n",
      "Epoch 82/200\n",
      "363/363 [==============================] - 0s 666us/step - loss: 0.3448 - mae: 0.4148 - val_loss: 0.4091 - val_mae: 0.4515\n",
      "Epoch 83/200\n",
      "363/363 [==============================] - 0s 667us/step - loss: 0.3443 - mae: 0.4140 - val_loss: 0.4087 - val_mae: 0.4533\n",
      "Epoch 84/200\n",
      "363/363 [==============================] - 0s 669us/step - loss: 0.3437 - mae: 0.4135 - val_loss: 0.4081 - val_mae: 0.4560\n",
      "Epoch 85/200\n",
      "363/363 [==============================] - 0s 665us/step - loss: 0.3434 - mae: 0.4137 - val_loss: 0.4099 - val_mae: 0.4502\n",
      "Epoch 86/200\n",
      "363/363 [==============================] - 0s 685us/step - loss: 0.3431 - mae: 0.4129 - val_loss: 0.4087 - val_mae: 0.4503\n",
      "Epoch 87/200\n",
      "363/363 [==============================] - 0s 702us/step - loss: 0.3425 - mae: 0.4126 - val_loss: 0.4087 - val_mae: 0.4554\n",
      "Epoch 88/200\n",
      "363/363 [==============================] - 0s 690us/step - loss: 0.3418 - mae: 0.4127 - val_loss: 0.4071 - val_mae: 0.4492\n",
      "Epoch 89/200\n",
      "363/363 [==============================] - 0s 670us/step - loss: 0.3413 - mae: 0.4122 - val_loss: 0.4085 - val_mae: 0.4529\n",
      "Epoch 90/200\n",
      "363/363 [==============================] - 0s 668us/step - loss: 0.3413 - mae: 0.4117 - val_loss: 0.4086 - val_mae: 0.4564\n",
      "Epoch 91/200\n",
      "363/363 [==============================] - 0s 668us/step - loss: 0.3407 - mae: 0.4116 - val_loss: 0.4093 - val_mae: 0.4512\n",
      "Epoch 92/200\n",
      "363/363 [==============================] - 0s 669us/step - loss: 0.3403 - mae: 0.4112 - val_loss: 0.4079 - val_mae: 0.4544\n",
      "Epoch 93/200\n",
      "363/363 [==============================] - 0s 667us/step - loss: 0.3399 - mae: 0.4109 - val_loss: 0.4084 - val_mae: 0.4535\n",
      "Epoch 94/200\n",
      "363/363 [==============================] - 0s 707us/step - loss: 0.3395 - mae: 0.4101 - val_loss: 0.4080 - val_mae: 0.4579\n",
      "Epoch 95/200\n",
      "363/363 [==============================] - 0s 670us/step - loss: 0.3390 - mae: 0.4106 - val_loss: 0.4086 - val_mae: 0.4513\n",
      "Epoch 96/200\n",
      "363/363 [==============================] - 0s 668us/step - loss: 0.3385 - mae: 0.4099 - val_loss: 0.4074 - val_mae: 0.4539\n",
      "Epoch 97/200\n",
      "363/363 [==============================] - 0s 671us/step - loss: 0.3384 - mae: 0.4095 - val_loss: 0.4077 - val_mae: 0.4533\n",
      "Epoch 98/200\n",
      "363/363 [==============================] - 0s 688us/step - loss: 0.3381 - mae: 0.4095 - val_loss: 0.4065 - val_mae: 0.4532\n",
      "Epoch 99/200\n",
      "363/363 [==============================] - 0s 672us/step - loss: 0.3374 - mae: 0.4093 - val_loss: 0.4068 - val_mae: 0.4491\n",
      "Epoch 100/200\n",
      "363/363 [==============================] - 0s 669us/step - loss: 0.3369 - mae: 0.4089 - val_loss: 0.4074 - val_mae: 0.4536\n",
      "Epoch 101/200\n",
      "363/363 [==============================] - 0s 687us/step - loss: 0.3369 - mae: 0.4081 - val_loss: 0.4058 - val_mae: 0.4521\n",
      "Epoch 102/200\n",
      "363/363 [==============================] - 0s 685us/step - loss: 0.3364 - mae: 0.4086 - val_loss: 0.4055 - val_mae: 0.4477\n",
      "Epoch 103/200\n",
      "363/363 [==============================] - 0s 672us/step - loss: 0.3361 - mae: 0.4080 - val_loss: 0.4079 - val_mae: 0.4499\n",
      "Epoch 104/200\n",
      "363/363 [==============================] - 0s 679us/step - loss: 0.3355 - mae: 0.4074 - val_loss: 0.4056 - val_mae: 0.4512\n",
      "Epoch 105/200\n",
      "363/363 [==============================] - 0s 668us/step - loss: 0.3353 - mae: 0.4074 - val_loss: 0.4074 - val_mae: 0.4552\n",
      "Epoch 106/200\n",
      "363/363 [==============================] - 0s 665us/step - loss: 0.3347 - mae: 0.4075 - val_loss: 0.4085 - val_mae: 0.4478\n",
      "Epoch 107/200\n",
      "363/363 [==============================] - 0s 700us/step - loss: 0.3345 - mae: 0.4066 - val_loss: 0.4063 - val_mae: 0.4520\n",
      "Epoch 108/200\n",
      "363/363 [==============================] - 0s 667us/step - loss: 0.3339 - mae: 0.4067 - val_loss: 0.4073 - val_mae: 0.4527\n",
      "Epoch 109/200\n",
      "363/363 [==============================] - 0s 691us/step - loss: 0.3334 - mae: 0.4059 - val_loss: 0.4042 - val_mae: 0.4520\n",
      "Epoch 110/200\n",
      "363/363 [==============================] - 0s 671us/step - loss: 0.3335 - mae: 0.4066 - val_loss: 0.4057 - val_mae: 0.4530\n",
      "Epoch 111/200\n",
      "363/363 [==============================] - 0s 687us/step - loss: 0.3330 - mae: 0.4057 - val_loss: 0.4030 - val_mae: 0.4476\n",
      "Epoch 112/200\n",
      "363/363 [==============================] - 0s 668us/step - loss: 0.3328 - mae: 0.4059 - val_loss: 0.4044 - val_mae: 0.4491\n",
      "Epoch 113/200\n",
      "363/363 [==============================] - 0s 671us/step - loss: 0.3323 - mae: 0.4056 - val_loss: 0.4057 - val_mae: 0.4461\n",
      "Epoch 114/200\n",
      "363/363 [==============================] - 0s 674us/step - loss: 0.3322 - mae: 0.4051 - val_loss: 0.4039 - val_mae: 0.4480\n",
      "Epoch 115/200\n",
      "363/363 [==============================] - 0s 665us/step - loss: 0.3314 - mae: 0.4050 - val_loss: 0.4054 - val_mae: 0.4543\n",
      "Epoch 116/200\n",
      "363/363 [==============================] - 0s 667us/step - loss: 0.3315 - mae: 0.4048 - val_loss: 0.4051 - val_mae: 0.4511\n",
      "Epoch 117/200\n",
      "363/363 [==============================] - 0s 666us/step - loss: 0.3310 - mae: 0.4047 - val_loss: 0.4059 - val_mae: 0.4508\n",
      "Epoch 118/200\n",
      "363/363 [==============================] - 0s 667us/step - loss: 0.3308 - mae: 0.4040 - val_loss: 0.4051 - val_mae: 0.4473\n",
      "Epoch 119/200\n",
      "363/363 [==============================] - 0s 700us/step - loss: 0.3300 - mae: 0.4035 - val_loss: 0.4060 - val_mae: 0.4513\n",
      "Epoch 120/200\n",
      "363/363 [==============================] - 0s 666us/step - loss: 0.3301 - mae: 0.4038 - val_loss: 0.4057 - val_mae: 0.4511\n",
      "Epoch 121/200\n",
      "363/363 [==============================] - 0s 674us/step - loss: 0.3295 - mae: 0.4031 - val_loss: 0.4035 - val_mae: 0.4485\n"
     ]
    }
   ],
   "source": [
    "model_history = model.fit(X_train,y_train,epochs=200,validation_data=(X_valid,y_valid),\n",
    "                         callbacks=[checkpoint_cb,early_stopping_cb])"
   ]
  },
  {
   "cell_type": "code",
   "execution_count": 34,
   "id": "1b001e26-abf6-4ac8-afa3-b76818a6661b",
   "metadata": {},
   "outputs": [],
   "source": [
    "model = keras.models.load_model(\"early_stop_model.h5\")"
   ]
  },
  {
   "cell_type": "code",
   "execution_count": 35,
   "id": "b0bb28b1-0dff-4e58-8dca-8da265858637",
   "metadata": {},
   "outputs": [
    {
     "name": "stdout",
     "output_type": "stream",
     "text": [
      "162/162 [==============================] - 0s 454us/step - loss: 0.3685 - mae: 0.4325\n"
     ]
    }
   ],
   "source": [
    "mae_test = model.evaluate(X_test,y_test)"
   ]
  },
  {
   "cell_type": "code",
   "execution_count": 36,
   "id": "bf652b7c-6223-4243-b721-22ff44abb714",
   "metadata": {},
   "outputs": [
    {
     "data": {
      "image/png": "[encoded data removed]",
      "text/plain": [
       "<Figure size 800x500 with 1 Axes>"
      ]
     },
     "metadata": {},
     "output_type": "display_data"
    }
   ],
   "source": [
    "import pandas as pd\n",
    "pd.DataFrame(model_history.history).plot(figsize=(8,5))\n",
    "plt.grid(True)\n",
    "plt.gca().set_ylim(0,1)\n",
    "plt.show()"
   ]
  },
  {
   "cell_type": "code",
   "execution_count": null,
   "id": "bcb48e0d-40a4-47e9-8950-2c28fa54e9e0",
   "metadata": {},
   "outputs": [],
   "source": []
  }
 ],
 "metadata": {
  "kernelspec": {
   "display_name": "Python 3 (ipykernel)",
   "language": "python",
   "name": "python3"
  },
  "language_info": {
   "codemirror_mode": {
    "name": "ipython",
    "version": 3
   },
   "file_extension": ".py",
   "mimetype": "text/x-python",
   "name": "python",
   "nbconvert_exporter": "python",
   "pygments_lexer": "ipython3",
   "version": "3.9.15"
  }
 },
 "nbformat": 4,
 "nbformat_minor": 5
}
