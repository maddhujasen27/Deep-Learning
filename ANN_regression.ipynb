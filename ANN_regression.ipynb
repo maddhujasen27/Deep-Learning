{
 "cells": [
  {
   "cell_type": "markdown",
   "id": "6072e451-5cba-4106-b276-3fd1a146b929",
   "metadata": {},
   "source": [
    "## Fetch California Housing"
   ]
  },
  {
   "cell_type": "code",
   "execution_count": 9,
   "id": "eb69fe35-1e0a-4d84-aabc-fd3bfb75f612",
   "metadata": {},
   "outputs": [
    {
     "name": "stderr",
     "output_type": "stream",
     "text": [
      "2023-09-18 00:18:30.241234: I tensorflow/core/platform/cpu_feature_guard.cc:193] This TensorFlow binary is optimized with oneAPI Deep Neural Network Library (oneDNN) to use the following CPU instructions in performance-critical operations:  SSE4.1 SSE4.2\n",
      "To enable them in other operations, rebuild TensorFlow with the appropriate compiler flags.\n"
     ]
    }
   ],
   "source": [
    "import numpy as np\n",
    "import pandas as pd\n",
    "%matplotlib inline\n",
    "import matplotlib as mpl\n",
    "import matplotlib.pyplot as plt\n",
    "import tensorflow as tf\n",
    "from tensorflow import keras"
   ]
  },
  {
   "cell_type": "code",
   "execution_count": 2,
   "id": "c483964f-e6c3-4d9e-aa73-15bee8fcd51d",
   "metadata": {},
   "outputs": [],
   "source": [
    "from sklearn.datasets import fetch_california_housing \n",
    "housing = fetch_california_housing()"
   ]
  },
  {
   "cell_type": "code",
   "execution_count": 3,
   "id": "9380212b-63fd-46be-be55-61208a7006bd",
   "metadata": {},
   "outputs": [
    {
     "data": {
      "text/plain": [
       "['MedInc',\n",
       " 'HouseAge',\n",
       " 'AveRooms',\n",
       " 'AveBedrms',\n",
       " 'Population',\n",
       " 'AveOccup',\n",
       " 'Latitude',\n",
       " 'Longitude']"
      ]
     },
     "execution_count": 3,
     "metadata": {},
     "output_type": "execute_result"
    }
   ],
   "source": [
    "housing.feature_names"
   ]
  },
  {
   "cell_type": "markdown",
   "id": "09500e80-081b-4e8b-93e1-2cd73190dabc",
   "metadata": {},
   "source": [
    "### Splitting the dataset"
   ]
  },
  {
   "cell_type": "code",
   "execution_count": 4,
   "id": "b5d63b0c-e65d-4228-9444-c8c4455cb9ae",
   "metadata": {},
   "outputs": [],
   "source": [
    "from sklearn.model_selection import train_test_split\n",
    "X_train_full,X_test,y_train_full,y_test = train_test_split(housing.data,housing.target,random_state=42)\n",
    "X_train,X_valid,y_train,y_valid = train_test_split(X_train_full,y_train_full,random_state=42)"
   ]
  },
  {
   "cell_type": "markdown",
   "id": "8d3862c1-a475-45bd-9f28-0291b28d34ff",
   "metadata": {},
   "source": [
    "### Standardizing the data"
   ]
  },
  {
   "cell_type": "code",
   "execution_count": 7,
   "id": "6dc92d80-7320-4661-916f-3df3b0bc7f45",
   "metadata": {},
   "outputs": [],
   "source": [
    "from sklearn.preprocessing import StandardScaler\n",
    "scalar = StandardScaler()\n",
    "X_train = scalar.fit_transform(X_train)\n",
    "X_test = scalar.fit_transform(X_test)\n",
    "X_valid = scalar.fit_transform(X_valid)"
   ]
  },
  {
   "cell_type": "code",
   "execution_count": 10,
   "id": "21cc0465-d2c3-419a-b8c2-c27d3ed1ee75",
   "metadata": {},
   "outputs": [],
   "source": [
    "np.random.seed(42)\n",
    "tf.random.set_seed(42)"
   ]
  },
  {
   "cell_type": "code",
   "execution_count": 12,
   "id": "486f8f7f-4573-4648-b64e-8dd34a50fcfe",
   "metadata": {},
   "outputs": [
    {
     "data": {
      "text/plain": [
       "(11610, 8)"
      ]
     },
     "execution_count": 12,
     "metadata": {},
     "output_type": "execute_result"
    }
   ],
   "source": [
    "X_train.shape"
   ]
  },
  {
   "cell_type": "markdown",
   "id": "5d53d7b7-3620-4c33-ba25-94c4561752e6",
   "metadata": {},
   "source": [
    "### Model creation and training"
   ]
  },
  {
   "cell_type": "code",
   "execution_count": 14,
   "id": "51b4f305-fbd6-441a-b135-6da4f516dbbe",
   "metadata": {},
   "outputs": [
    {
     "name": "stderr",
     "output_type": "stream",
     "text": [
      "2023-09-18 00:25:01.723279: I tensorflow/core/platform/cpu_feature_guard.cc:193] This TensorFlow binary is optimized with oneAPI Deep Neural Network Library (oneDNN) to use the following CPU instructions in performance-critical operations:  SSE4.1 SSE4.2\n",
      "To enable them in other operations, rebuild TensorFlow with the appropriate compiler flags.\n"
     ]
    }
   ],
   "source": [
    "model = keras.models.Sequential([\n",
    "    keras.layers.Dense(30,activation=\"relu\",input_shape=[8]), #Hidden layer 1\n",
    "    keras.layers.Dense(30,activation=\"relu\"), # Hidden layer 2\n",
    "    keras.layers.Dense(1) # Output layer\n",
    "    \n",
    "])"
   ]
  },
  {
   "cell_type": "code",
   "execution_count": 15,
   "id": "c770e32a-4319-4f61-a203-03b3374e8734",
   "metadata": {},
   "outputs": [
    {
     "name": "stdout",
     "output_type": "stream",
     "text": [
      "Model: \"sequential\"\n",
      "_________________________________________________________________\n",
      " Layer (type)                Output Shape              Param #   \n",
      "=================================================================\n",
      " dense (Dense)               (None, 30)                270       \n",
      "                                                                 \n",
      " dense_1 (Dense)             (None, 30)                930       \n",
      "                                                                 \n",
      " dense_2 (Dense)             (None, 1)                 31        \n",
      "                                                                 \n",
      "=================================================================\n",
      "Total params: 1,231\n",
      "Trainable params: 1,231\n",
      "Non-trainable params: 0\n",
      "_________________________________________________________________\n"
     ]
    }
   ],
   "source": [
    "model.summary()"
   ]
  },
  {
   "cell_type": "code",
   "execution_count": 16,
   "id": "2053e28e-c482-498d-8bf6-09e0bf6aea94",
   "metadata": {},
   "outputs": [
    {
     "name": "stderr",
     "output_type": "stream",
     "text": [
      "/Users/maddhujasen27/opt/anaconda3/envs/tensorflow/lib/python3.9/site-packages/keras/optimizers/optimizer_v2/gradient_descent.py:111: UserWarning: The `lr` argument is deprecated, use `learning_rate` instead.\n",
      "  super().__init__(name, **kwargs)\n"
     ]
    }
   ],
   "source": [
    "model.compile(loss=\"mean_squared_error\",\n",
    "             optimizer=keras.optimizers.SGD(lr=1e-3), # learning rate = 0.01\n",
    "             metrics=['mae'])"
   ]
  },
  {
   "cell_type": "code",
   "execution_count": 22,
   "id": "b5fb68d4-f872-425d-af9a-c3c38ff0dc5c",
   "metadata": {},
   "outputs": [
    {
     "name": "stdout",
     "output_type": "stream",
     "text": [
      "Epoch 1/20\n",
      "363/363 [==============================] - 0s 734us/step - loss: 0.4009 - mae: 0.4549 - val_loss: 0.4603 - val_mae: 0.4985\n",
      "Epoch 2/20\n",
      "363/363 [==============================] - 0s 665us/step - loss: 0.3977 - mae: 0.4518 - val_loss: 0.4616 - val_mae: 0.5042\n",
      "Epoch 3/20\n",
      "363/363 [==============================] - 0s 663us/step - loss: 0.3948 - mae: 0.4510 - val_loss: 0.4577 - val_mae: 0.4956\n",
      "Epoch 4/20\n",
      "363/363 [==============================] - 0s 663us/step - loss: 0.3923 - mae: 0.4486 - val_loss: 0.4560 - val_mae: 0.4978\n",
      "Epoch 5/20\n",
      "363/363 [==============================] - 0s 661us/step - loss: 0.3897 - mae: 0.4469 - val_loss: 0.4518 - val_mae: 0.4940\n",
      "Epoch 6/20\n",
      "363/363 [==============================] - 0s 664us/step - loss: 0.3875 - mae: 0.4458 - val_loss: 0.4517 - val_mae: 0.4917\n",
      "Epoch 7/20\n",
      "363/363 [==============================] - 0s 664us/step - loss: 0.3853 - mae: 0.4440 - val_loss: 0.4489 - val_mae: 0.4918\n",
      "Epoch 8/20\n",
      "363/363 [==============================] - 0s 663us/step - loss: 0.3834 - mae: 0.4428 - val_loss: 0.4461 - val_mae: 0.4880\n",
      "Epoch 9/20\n",
      "363/363 [==============================] - 0s 663us/step - loss: 0.3816 - mae: 0.4422 - val_loss: 0.4446 - val_mae: 0.4846\n",
      "Epoch 10/20\n",
      "363/363 [==============================] - 0s 664us/step - loss: 0.3799 - mae: 0.4403 - val_loss: 0.4424 - val_mae: 0.4842\n",
      "Epoch 11/20\n",
      "363/363 [==============================] - 0s 703us/step - loss: 0.3786 - mae: 0.4393 - val_loss: 0.4410 - val_mae: 0.4844\n",
      "Epoch 12/20\n",
      "363/363 [==============================] - 0s 663us/step - loss: 0.3768 - mae: 0.4382 - val_loss: 0.4399 - val_mae: 0.4822\n",
      "Epoch 13/20\n",
      "363/363 [==============================] - 0s 671us/step - loss: 0.3755 - mae: 0.4372 - val_loss: 0.4401 - val_mae: 0.4870\n",
      "Epoch 14/20\n",
      "363/363 [==============================] - 0s 663us/step - loss: 0.3741 - mae: 0.4363 - val_loss: 0.4386 - val_mae: 0.4845\n",
      "Epoch 15/20\n",
      "363/363 [==============================] - 0s 676us/step - loss: 0.3727 - mae: 0.4354 - val_loss: 0.4370 - val_mae: 0.4821\n",
      "Epoch 16/20\n",
      "363/363 [==============================] - 0s 668us/step - loss: 0.3716 - mae: 0.4350 - val_loss: 0.4351 - val_mae: 0.4813\n",
      "Epoch 17/20\n",
      "363/363 [==============================] - 0s 670us/step - loss: 0.3705 - mae: 0.4340 - val_loss: 0.4346 - val_mae: 0.4798\n",
      "Epoch 18/20\n",
      "363/363 [==============================] - 0s 701us/step - loss: 0.3693 - mae: 0.4332 - val_loss: 0.4340 - val_mae: 0.4768\n",
      "Epoch 19/20\n",
      "363/363 [==============================] - 0s 701us/step - loss: 0.3680 - mae: 0.4319 - val_loss: 0.4346 - val_mae: 0.4781\n",
      "Epoch 20/20\n",
      "363/363 [==============================] - 0s 670us/step - loss: 0.3673 - mae: 0.4315 - val_loss: 0.4324 - val_mae: 0.4801\n"
     ]
    }
   ],
   "source": [
    "model_history = model.fit(X_train,y_train,epochs=20,validation_data=(X_valid,y_valid))"
   ]
  },
  {
   "cell_type": "markdown",
   "id": "db89720a-e640-4cf9-be06-3386b0479ca9",
   "metadata": {},
   "source": [
    "### Testing the model"
   ]
  },
  {
   "cell_type": "code",
   "execution_count": 23,
   "id": "b4f68617-df10-4905-b54f-f142a311532f",
   "metadata": {},
   "outputs": [
    {
     "name": "stdout",
     "output_type": "stream",
     "text": [
      "162/162 [==============================] - 0s 465us/step - loss: 0.3844 - mae: 0.4500\n"
     ]
    }
   ],
   "source": [
    "mae_test = model.evaluate(X_test,y_test)"
   ]
  },
  {
   "cell_type": "code",
   "execution_count": 24,
   "id": "2b89d22f-09fe-40cb-98ee-a999d024ec80",
   "metadata": {},
   "outputs": [
    {
     "data": {
      "text/plain": [
       "{'loss': [0.4008530378341675,\n",
       "  0.3976939618587494,\n",
       "  0.3948094844818115,\n",
       "  0.39229145646095276,\n",
       "  0.38974273204803467,\n",
       "  0.38748085498809814,\n",
       "  0.38534966111183167,\n",
       "  0.38340163230895996,\n",
       "  0.3815588355064392,\n",
       "  0.3799131214618683,\n",
       "  0.37856772541999817,\n",
       "  0.3767510950565338,\n",
       "  0.37547752261161804,\n",
       "  0.3741186857223511,\n",
       "  0.3727470934391022,\n",
       "  0.3715980052947998,\n",
       "  0.37052780389785767,\n",
       "  0.36932894587516785,\n",
       "  0.36804449558258057,\n",
       "  0.3672800362110138],\n",
       " 'mae': [0.45488470792770386,\n",
       "  0.4517582058906555,\n",
       "  0.450961709022522,\n",
       "  0.4485943615436554,\n",
       "  0.446930855512619,\n",
       "  0.4457656145095825,\n",
       "  0.4439937174320221,\n",
       "  0.4428066909313202,\n",
       "  0.4421711266040802,\n",
       "  0.44026756286621094,\n",
       "  0.4393477737903595,\n",
       "  0.43819281458854675,\n",
       "  0.4372333884239197,\n",
       "  0.43629392981529236,\n",
       "  0.43541422486305237,\n",
       "  0.4349753260612488,\n",
       "  0.4339789152145386,\n",
       "  0.4331706464290619,\n",
       "  0.43193215131759644,\n",
       "  0.4315248727798462],\n",
       " 'val_loss': [0.4602876901626587,\n",
       "  0.46157804131507874,\n",
       "  0.4576704204082489,\n",
       "  0.45597296953201294,\n",
       "  0.4518486559391022,\n",
       "  0.45166271924972534,\n",
       "  0.4489290714263916,\n",
       "  0.4460850954055786,\n",
       "  0.44463256001472473,\n",
       "  0.4424142837524414,\n",
       "  0.4410074055194855,\n",
       "  0.4398929178714752,\n",
       "  0.44005584716796875,\n",
       "  0.43864330649375916,\n",
       "  0.4369915723800659,\n",
       "  0.43505728244781494,\n",
       "  0.4346068799495697,\n",
       "  0.4339935779571533,\n",
       "  0.4346243143081665,\n",
       "  0.43240514397621155],\n",
       " 'val_mae': [0.4984595775604248,\n",
       "  0.5042254328727722,\n",
       "  0.49564436078071594,\n",
       "  0.4978257417678833,\n",
       "  0.49402084946632385,\n",
       "  0.49165937304496765,\n",
       "  0.49183589220046997,\n",
       "  0.48803025484085083,\n",
       "  0.4846159517765045,\n",
       "  0.4841930866241455,\n",
       "  0.48437848687171936,\n",
       "  0.4822466969490051,\n",
       "  0.4870113432407379,\n",
       "  0.4844616651535034,\n",
       "  0.4821111261844635,\n",
       "  0.48130640387535095,\n",
       "  0.4798499047756195,\n",
       "  0.4768120050430298,\n",
       "  0.47810956835746765,\n",
       "  0.48005837202072144]}"
      ]
     },
     "execution_count": 24,
     "metadata": {},
     "output_type": "execute_result"
    }
   ],
   "source": [
    "model_history.history"
   ]
  },
  {
   "cell_type": "code",
   "execution_count": 25,
   "id": "a198b012-7ab1-4661-8785-bc4deca93cbc",
   "metadata": {},
   "outputs": [
    {
     "data": {
      "image/png": "[encoded data removed]",
      "text/plain": [
       "<Figure size 800x500 with 1 Axes>"
      ]
     },
     "metadata": {},
     "output_type": "display_data"
    }
   ],
   "source": [
    "import pandas as pd\n",
    "pd.DataFrame(model_history.history).plot(figsize=(8,5))\n",
    "plt.grid(True)\n",
    "plt.gca().set_ylim(0,1)\n",
    "plt.show()"
   ]
  },
  {
   "cell_type": "code",
   "execution_count": 26,
   "id": "5ee89e98-8a01-41d4-b108-0fbce6ebf0d6",
   "metadata": {},
   "outputs": [
    {
     "data": {
      "text/plain": [
       "array([[-1.14772246, -0.3014276 , -0.46356103, -0.13026842, -0.0249129 ,\n",
       "         0.56243986,  0.22075674,  0.2580042 ],\n",
       "       [-0.69738315,  0.09834786, -0.14086589,  0.17205266,  0.13229717,\n",
       "        -0.17390163, -0.20888265,  0.0337006 ],\n",
       "       [-0.19475766,  1.85735988, -0.54547279,  0.15860488, -0.09942866,\n",
       "        -0.98514082,  1.03333558, -1.45168768]])"
      ]
     },
     "execution_count": 26,
     "metadata": {},
     "output_type": "execute_result"
    }
   ],
   "source": [
    "X_new = X_test[:3]\n",
    "X_new"
   ]
  },
  {
   "cell_type": "markdown",
   "id": "47dc6719-a810-4eb2-9d19-15c09367e829",
   "metadata": {},
   "source": [
    "### Making predictions"
   ]
  },
  {
   "cell_type": "code",
   "execution_count": 27,
   "id": "f816a37f-4356-4f6b-ba2e-5bb74ee1684f",
   "metadata": {},
   "outputs": [
    {
     "name": "stdout",
     "output_type": "stream",
     "text": [
      "1/1 [==============================] - 0s 61ms/step\n",
      "[[0.70704645]\n",
      " [1.7858338 ]\n",
      " [4.4936275 ]]\n"
     ]
    },
    {
     "data": {
      "text/plain": [
       "array([0.477  , 0.458  , 5.00001])"
      ]
     },
     "execution_count": 27,
     "metadata": {},
     "output_type": "execute_result"
    }
   ],
   "source": [
    "y_pred = model.predict(X_new)\n",
    "print(y_pred)\n",
    "y_test[:3]"
   ]
  }
 ],
 "metadata": {
  "kernelspec": {
   "display_name": "Python 3 (ipykernel)",
   "language": "python",
   "name": "python3"
  },
  "language_info": {
   "codemirror_mode": {
    "name": "ipython",
    "version": 3
   },
   "file_extension": ".py",
   "mimetype": "text/x-python",
   "name": "python",
   "nbconvert_exporter": "python",
   "pygments_lexer": "ipython3",
   "version": "3.9.15"
  }
 },
 "nbformat": 4,
 "nbformat_minor": 5
}
