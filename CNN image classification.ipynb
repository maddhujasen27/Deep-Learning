{
 "cells": [
  {
   "cell_type": "code",
   "execution_count": 1,
   "id": "58b83732-d9d7-493a-ada7-9f930622156c",
   "metadata": {},
   "outputs": [],
   "source": [
    "import numpy as np\n",
    "import pandas as pd\n",
    "%matplotlib inline\n",
    "import matplotlib as mpl\n",
    "import matplotlib.pyplot as plt "
   ]
  },
  {
   "cell_type": "code",
   "execution_count": 2,
   "id": "00304d37-7542-44bf-ae98-5b8a04ac1b7e",
   "metadata": {},
   "outputs": [
    {
     "name": "stderr",
     "output_type": "stream",
     "text": [
      "2024-03-29 12:06:22.497880: I tensorflow/core/platform/cpu_feature_guard.cc:193] This TensorFlow binary is optimized with oneAPI Deep Neural Network Library (oneDNN) to use the following CPU instructions in performance-critical operations:  SSE4.1 SSE4.2\n",
      "To enable them in other operations, rebuild TensorFlow with the appropriate compiler flags.\n"
     ]
    }
   ],
   "source": [
    "import tensorflow as tf\n",
    "from tensorflow import keras "
   ]
  },
  {
   "cell_type": "code",
   "execution_count": 3,
   "id": "981f9a51-c634-4269-b768-f274265bdd4a",
   "metadata": {},
   "outputs": [],
   "source": [
    "data = keras.datasets.fashion_mnist\n",
    "(X_train_full,y_train_full),(X_test,y_test) = data.load_data()"
   ]
  },
  {
   "cell_type": "code",
   "execution_count": 4,
   "id": "6d68242a-061b-4ec5-a233-c75b1824bb2b",
   "metadata": {},
   "outputs": [],
   "source": [
    "class_names = [\"T-shirt/top\",\"Trouser\",\"Pullover\",\"Dress\",\"Coat\",\n",
    "              \"Sandal\",\"Shirt\",\"Sneaker\",\"Bag\",\"Ankle boot\"]"
   ]
  },
  {
   "cell_type": "markdown",
   "id": "d7efedbc-2a71-462d-aadb-4265aeac5925",
   "metadata": {},
   "source": [
    "#### Data Reshape"
   ]
  },
  {
   "cell_type": "code",
   "execution_count": 5,
   "id": "4f2e4d68-ce55-469e-b712-bafd782b3eb9",
   "metadata": {},
   "outputs": [],
   "source": [
    "X_train_full = X_train_full.reshape((60000,28,28,1))\n",
    "X_test = X_test.reshape((10000,28,28,1))"
   ]
  },
  {
   "cell_type": "markdown",
   "id": "abd2787e-c4ba-4ac4-9e7c-b77eec473466",
   "metadata": {},
   "source": [
    "#### Data Normalization"
   ]
  },
  {
   "cell_type": "markdown",
   "id": "8b64b20e-a4d9-4da9-a9a6-16aa26182ad1",
   "metadata": {},
   "source": [
    "When then normalized the data dimensions so that they are of approximately the same scale."
   ]
  },
  {
   "cell_type": "code",
   "execution_count": 6,
   "id": "272d4cad-7325-4b22-bf6a-2fbe181841a2",
   "metadata": {},
   "outputs": [],
   "source": [
    "X_train_n = X_train_full / 255.\n",
    "X_test_n = X_test / 255."
   ]
  },
  {
   "cell_type": "markdown",
   "id": "ed5f6858-44f8-4c39-bb25-1f6ec380a77e",
   "metadata": {},
   "source": [
    "#### Splitting the data into train/ validation/ test datasets"
   ]
  },
  {
   "cell_type": "code",
   "execution_count": 7,
   "id": "3b759854-cb1e-4dc9-bd25-d9addf89a698",
   "metadata": {},
   "outputs": [],
   "source": [
    "X_valid, X_train = X_train_n[:5000], X_train_n[5000:]\n",
    "y_valid,y_train = y_train_full[:5000], y_train_full[5000:]\n",
    "X_test = X_test_n"
   ]
  },
  {
   "cell_type": "code",
   "execution_count": 8,
   "id": "0b1bf92c-745c-4b6b-8f67-b0ed625870c7",
   "metadata": {},
   "outputs": [],
   "source": [
    "np.random.seed(42)\n",
    "tf.random.set_seed(42)"
   ]
  },
  {
   "cell_type": "markdown",
   "id": "23a05d93-043c-4139-93a2-ab3698c828cc",
   "metadata": {},
   "source": [
    "#### Model Architecture"
   ]
  },
  {
   "cell_type": "code",
   "execution_count": 9,
   "id": "50d67f90-d186-447b-a781-4275e50f3239",
   "metadata": {},
   "outputs": [
    {
     "name": "stderr",
     "output_type": "stream",
     "text": [
      "2024-03-29 13:19:44.472367: I tensorflow/core/platform/cpu_feature_guard.cc:193] This TensorFlow binary is optimized with oneAPI Deep Neural Network Library (oneDNN) to use the following CPU instructions in performance-critical operations:  SSE4.1 SSE4.2\n",
      "To enable them in other operations, rebuild TensorFlow with the appropriate compiler flags.\n"
     ]
    }
   ],
   "source": [
    "model = keras.models.Sequential()\n",
    "\n",
    "model.add(keras.layers.Conv2D(filters = 32, kernel_size = (3,3), strides=1,padding='valid', activation='relu',input_shape=(28,28,1)))\n",
    "model.add(keras.layers.MaxPooling2D((2,2)))\n",
    "\n",
    "model.add(keras.layers.Flatten()) #flattening 2D 28 x 28 to 1D \n",
    "model.add(keras.layers.Dense(300,activation=\"relu\"))\n",
    "model.add(keras.layers.Dense(100,activation=\"relu\"))\n",
    "model.add(keras.layers.Dense(10,activation=\"softmax\"))"
   ]
  },
  {
   "cell_type": "code",
   "execution_count": 10,
   "id": "da4a4b10-6b7a-4504-aa74-12ac396dfc8d",
   "metadata": {},
   "outputs": [
    {
     "name": "stdout",
     "output_type": "stream",
     "text": [
      "Model: \"sequential\"\n",
      "_________________________________________________________________\n",
      " Layer (type)                Output Shape              Param #   \n",
      "=================================================================\n",
      " conv2d (Conv2D)             (None, 26, 26, 32)        320       \n",
      "                                                                 \n",
      " max_pooling2d (MaxPooling2D  (None, 13, 13, 32)       0         \n",
      " )                                                               \n",
      "                                                                 \n",
      " flatten (Flatten)           (None, 5408)              0         \n",
      "                                                                 \n",
      " dense (Dense)               (None, 300)               1622700   \n",
      "                                                                 \n",
      " dense_1 (Dense)             (None, 100)               30100     \n",
      "                                                                 \n",
      " dense_2 (Dense)             (None, 10)                1010      \n",
      "                                                                 \n",
      "=================================================================\n",
      "Total params: 1,654,130\n",
      "Trainable params: 1,654,130\n",
      "Non-trainable params: 0\n",
      "_________________________________________________________________\n"
     ]
    }
   ],
   "source": [
    "model.summary()"
   ]
  },
  {
   "cell_type": "code",
   "execution_count": 11,
   "id": "9dd1c962-ba58-4d2e-9ca3-ac52f2a43ac6",
   "metadata": {},
   "outputs": [],
   "source": [
    "model.compile(loss=\"sparse_categorical_crossentropy\", \n",
    "             optimizer=\"sgd\", \n",
    "             metrics=[\"accuracy\"])"
   ]
  },
  {
   "cell_type": "code",
   "execution_count": 12,
   "id": "c8115fa2-e49d-4eb0-a4ee-9cf95c30330c",
   "metadata": {},
   "outputs": [
    {
     "name": "stdout",
     "output_type": "stream",
     "text": [
      "Epoch 1/30\n",
      "860/860 [==============================] - 10s 11ms/step - loss: 0.8784 - accuracy: 0.6997 - val_loss: 0.8244 - val_accuracy: 0.6986\n",
      "Epoch 2/30\n",
      "860/860 [==============================] - 10s 11ms/step - loss: 0.5371 - accuracy: 0.8050 - val_loss: 0.4947 - val_accuracy: 0.8108\n",
      "Epoch 3/30\n",
      "860/860 [==============================] - 10s 11ms/step - loss: 0.4787 - accuracy: 0.8274 - val_loss: 1.0109 - val_accuracy: 0.6924\n",
      "Epoch 4/30\n",
      "860/860 [==============================] - 10s 11ms/step - loss: 0.4416 - accuracy: 0.8417 - val_loss: 0.4075 - val_accuracy: 0.8622\n",
      "Epoch 5/30\n",
      "860/860 [==============================] - 10s 11ms/step - loss: 0.4177 - accuracy: 0.8489 - val_loss: 0.4172 - val_accuracy: 0.8534\n",
      "Epoch 6/30\n",
      "860/860 [==============================] - 9s 11ms/step - loss: 0.3932 - accuracy: 0.8584 - val_loss: 0.3666 - val_accuracy: 0.8746\n",
      "Epoch 7/30\n",
      "860/860 [==============================] - 9s 11ms/step - loss: 0.3752 - accuracy: 0.8661 - val_loss: 0.4087 - val_accuracy: 0.8554\n",
      "Epoch 8/30\n",
      "860/860 [==============================] - 9s 11ms/step - loss: 0.3598 - accuracy: 0.8703 - val_loss: 0.5008 - val_accuracy: 0.8110\n",
      "Epoch 9/30\n",
      "860/860 [==============================] - 9s 11ms/step - loss: 0.3460 - accuracy: 0.8747 - val_loss: 0.3661 - val_accuracy: 0.8660\n",
      "Epoch 10/30\n",
      "860/860 [==============================] - 10s 11ms/step - loss: 0.3340 - accuracy: 0.8798 - val_loss: 0.3736 - val_accuracy: 0.8642\n",
      "Epoch 11/30\n",
      "860/860 [==============================] - 9s 11ms/step - loss: 0.3225 - accuracy: 0.8822 - val_loss: 0.3332 - val_accuracy: 0.8828\n",
      "Epoch 12/30\n",
      "860/860 [==============================] - 9s 11ms/step - loss: 0.3112 - accuracy: 0.8870 - val_loss: 0.3216 - val_accuracy: 0.8870\n",
      "Epoch 13/30\n",
      "860/860 [==============================] - 9s 11ms/step - loss: 0.3038 - accuracy: 0.8896 - val_loss: 0.3222 - val_accuracy: 0.8900\n",
      "Epoch 14/30\n",
      "860/860 [==============================] - 9s 11ms/step - loss: 0.2954 - accuracy: 0.8932 - val_loss: 0.3639 - val_accuracy: 0.8624\n",
      "Epoch 15/30\n",
      "860/860 [==============================] - 9s 11ms/step - loss: 0.2878 - accuracy: 0.8946 - val_loss: 0.3640 - val_accuracy: 0.8706\n",
      "Epoch 16/30\n",
      "860/860 [==============================] - 9s 11ms/step - loss: 0.2813 - accuracy: 0.8985 - val_loss: 0.2905 - val_accuracy: 0.8962\n",
      "Epoch 17/30\n",
      "860/860 [==============================] - 9s 11ms/step - loss: 0.2740 - accuracy: 0.9000 - val_loss: 0.3852 - val_accuracy: 0.8656\n",
      "Epoch 18/30\n",
      "860/860 [==============================] - 9s 11ms/step - loss: 0.2691 - accuracy: 0.9019 - val_loss: 0.3558 - val_accuracy: 0.8772\n",
      "Epoch 19/30\n",
      "860/860 [==============================] - 9s 11ms/step - loss: 0.2632 - accuracy: 0.9045 - val_loss: 0.3076 - val_accuracy: 0.8884\n",
      "Epoch 20/30\n",
      "860/860 [==============================] - 9s 11ms/step - loss: 0.2579 - accuracy: 0.9059 - val_loss: 0.3265 - val_accuracy: 0.8814\n",
      "Epoch 21/30\n",
      "860/860 [==============================] - 10s 11ms/step - loss: 0.2524 - accuracy: 0.9081 - val_loss: 0.2818 - val_accuracy: 0.8964\n",
      "Epoch 22/30\n",
      "860/860 [==============================] - 10s 11ms/step - loss: 0.2468 - accuracy: 0.9095 - val_loss: 0.2814 - val_accuracy: 0.8962\n",
      "Epoch 23/30\n",
      "860/860 [==============================] - 10s 11ms/step - loss: 0.2419 - accuracy: 0.9107 - val_loss: 0.2805 - val_accuracy: 0.9000\n",
      "Epoch 24/30\n",
      "860/860 [==============================] - 10s 11ms/step - loss: 0.2373 - accuracy: 0.9132 - val_loss: 0.2938 - val_accuracy: 0.8918\n",
      "Epoch 25/30\n",
      "860/860 [==============================] - 10s 11ms/step - loss: 0.2324 - accuracy: 0.9148 - val_loss: 0.2828 - val_accuracy: 0.8970\n",
      "Epoch 26/30\n",
      "860/860 [==============================] - 10s 11ms/step - loss: 0.2291 - accuracy: 0.9154 - val_loss: 0.2861 - val_accuracy: 0.9024\n",
      "Epoch 27/30\n",
      "860/860 [==============================] - 10s 11ms/step - loss: 0.2254 - accuracy: 0.9172 - val_loss: 0.2799 - val_accuracy: 0.8986\n",
      "Epoch 28/30\n",
      "860/860 [==============================] - 10s 11ms/step - loss: 0.2205 - accuracy: 0.9186 - val_loss: 0.2895 - val_accuracy: 0.8970\n",
      "Epoch 29/30\n",
      "860/860 [==============================] - 10s 11ms/step - loss: 0.2156 - accuracy: 0.9208 - val_loss: 0.2720 - val_accuracy: 0.9038\n",
      "Epoch 30/30\n",
      "860/860 [==============================] - 10s 12ms/step - loss: 0.2123 - accuracy: 0.9222 - val_loss: 0.2648 - val_accuracy: 0.9040\n"
     ]
    }
   ],
   "source": [
    "model_history = model.fit(X_train,y_train,epochs=30,batch_size=64,\n",
    "                         validation_data=(X_valid,y_valid))"
   ]
  },
  {
   "cell_type": "code",
   "execution_count": 13,
   "id": "3ee9b24c-24b1-4684-9fc3-6f6fa305f059",
   "metadata": {},
   "outputs": [
    {
     "data": {
      "image/png": "[encoded data removed]",
      "text/plain": [
       "<Figure size 800x500 with 1 Axes>"
      ]
     },
     "metadata": {},
     "output_type": "display_data"
    }
   ],
   "source": [
    "import pandas as pd\n",
    "pd.DataFrame(model_history.history).plot(figsize=(8,5))\n",
    "plt.grid(True)\n",
    "plt.gca().set_ylim(0,1)\n",
    "plt.show()"
   ]
  },
  {
   "cell_type": "code",
   "execution_count": 14,
   "id": "fba07e2e-c1ee-491b-aea2-c915bd890aeb",
   "metadata": {},
   "outputs": [
    {
     "name": "stdout",
     "output_type": "stream",
     "text": [
      "313/313 [==============================] - 1s 2ms/step - loss: 0.2769 - accuracy: 0.9012\n"
     ]
    }
   ],
   "source": [
    "ev = model.evaluate(X_test_n,y_test)"
   ]
  },
  {
   "cell_type": "code",
   "execution_count": 15,
   "id": "795c5410-ebfe-4831-861e-507cd6c22d31",
   "metadata": {},
   "outputs": [
    {
     "data": {
      "text/plain": [
       "[0.2769230902194977, 0.901199996471405]"
      ]
     },
     "execution_count": 15,
     "metadata": {},
     "output_type": "execute_result"
    }
   ],
   "source": [
    "ev"
   ]
  },
  {
   "cell_type": "code",
   "execution_count": 16,
   "id": "8844cd3d-c368-4e28-96a1-2a568b3873ff",
   "metadata": {},
   "outputs": [],
   "source": [
    "x_new = X_test[:3]"
   ]
  },
  {
   "cell_type": "code",
   "execution_count": 21,
   "id": "7a01a811-e057-480b-aea2-0861fae02e50",
   "metadata": {},
   "outputs": [
    {
     "name": "stdout",
     "output_type": "stream",
     "text": [
      "1/1 [==============================] - 0s 23ms/step\n"
     ]
    },
    {
     "data": {
      "text/plain": [
       "array([[0.  , 0.  , 0.  , 0.  , 0.  , 0.  , 0.  , 0.03, 0.  , 0.97],\n",
       "       [0.  , 0.  , 1.  , 0.  , 0.  , 0.  , 0.  , 0.  , 0.  , 0.  ],\n",
       "       [0.  , 1.  , 0.  , 0.  , 0.  , 0.  , 0.  , 0.  , 0.  , 0.  ]],\n",
       "      dtype=float32)"
      ]
     },
     "execution_count": 21,
     "metadata": {},
     "output_type": "execute_result"
    }
   ],
   "source": [
    "y_proba = model.predict(x_new) #prediction\n",
    "y_proba.round(2)"
   ]
  },
  {
   "cell_type": "code",
   "execution_count": 22,
   "id": "39433a8b-397c-489a-a319-2dcf7c47c457",
   "metadata": {},
   "outputs": [
    {
     "data": {
      "text/plain": [
       "array([9, 2, 1])"
      ]
     },
     "execution_count": 22,
     "metadata": {},
     "output_type": "execute_result"
    }
   ],
   "source": [
    "y_pred = np.argmax(y_proba, axis=1)\n",
    "y_pred"
   ]
  },
  {
   "cell_type": "code",
   "execution_count": 23,
   "id": "a74c5d83-6a7b-45a7-88d5-bfee7bd86ad5",
   "metadata": {},
   "outputs": [
    {
     "data": {
      "text/plain": [
       "array([9, 2, 1], dtype=uint8)"
      ]
     },
     "execution_count": 23,
     "metadata": {},
     "output_type": "execute_result"
    }
   ],
   "source": [
    "y_test[:3]"
   ]
  },
  {
   "cell_type": "code",
   "execution_count": 24,
   "id": "49f6f54f-6533-4af1-8097-574680fc6f86",
   "metadata": {},
   "outputs": [
    {
     "name": "stdout",
     "output_type": "stream",
     "text": [
      "AxesImage(size=(28, 28))\n"
     ]
    },
    {
     "data": {
      "image/png": "[encoded data removed]",
      "text/plain": [
       "<Figure size 640x480 with 1 Axes>"
      ]
     },
     "metadata": {},
     "output_type": "display_data"
    }
   ],
   "source": [
    "print(plt.imshow(X_test[0].reshape((28,28))))"
   ]
  },
  {
   "cell_type": "code",
   "execution_count": null,
   "id": "6b04390a-76e5-4720-af0e-991893c4703e",
   "metadata": {},
   "outputs": [],
   "source": []
  }
 ],
 "metadata": {
  "kernelspec": {
   "display_name": "Python 3 (ipykernel)",
   "language": "python",
   "name": "python3"
  },
  "language_info": {
   "codemirror_mode": {
    "name": "ipython",
    "version": 3
   },
   "file_extension": ".py",
   "mimetype": "text/x-python",
   "name": "python",
   "nbconvert_exporter": "python",
   "pygments_lexer": "ipython3",
   "version": "3.9.15"
  }
 },
 "nbformat": 4,
 "nbformat_minor": 5
}
